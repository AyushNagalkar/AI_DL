{
  "cells": [
    {
      "cell_type": "code",
      "execution_count": null,
      "metadata": {
        "colab": {
          "base_uri": "https://localhost:8080/"
        },
        "id": "QvHDNmNQDkvN",
        "outputId": "619f9175-37a5-4c31-c37b-2ac5b89a250a"
      },
      "outputs": [],
      "source": [
        "!apt-get install -y tesseract-ocr\n",
        "!pip install pytesseract"
      ]
    },
    {
      "cell_type": "code",
      "execution_count": null,
      "metadata": {
        "id": "b9sThTe8Dvfo"
      },
      "outputs": [],
      "source": [
        "import cv2\n",
        "import numpy as np\n",
        "import pytesseract\n",
        "from google.colab.patches import cv2_imshow\n",
        "from google.colab import files\n",
        "import os"
      ]
    },
    {
      "cell_type": "code",
      "execution_count": null,
      "metadata": {
        "id": "7Lxnw7q-Dx5j"
      },
      "outputs": [],
      "source": [
        "def process_image(img):\n",
        "    gray_image = cv2.cvtColor(img, cv2.COLOR_BGR2GRAY)\n",
        "    noise_free = cv2.fastNlMeansDenoising(gray_image)\n",
        "    binary_thresh = cv2.threshold(noise_free, 0, 255, cv2.THRESH_BINARY + cv2.THRESH_OTSU)[1]\n",
        "    return binary_thresh"
      ]
    },
    {
      "cell_type": "code",
      "execution_count": null,
      "metadata": {
        "id": "WEkmuOUXDzcK"
      },
      "outputs": [],
      "source": [
        "def text_regions(image_data):\n",
        "    detected_data = pytesseract.image_to_data(image_data, output_type=pytesseract.Output.DICT)\n",
        "    return detected_data"
      ]
    },
    {
      "cell_type": "code",
      "execution_count": null,
      "metadata": {
        "id": "7q5AU7mlD05u"
      },
      "outputs": [],
      "source": [
        "def mark_text_regions(img, detected_boxes):\n",
        "    output_img = img.copy()\n",
        "    num_boxes = len(detected_boxes['level'])\n",
        "    for i in range(num_boxes):\n",
        "        if int(detected_boxes['conf'][i]) > 60:\n",
        "            (x, y, width, height) = (detected_boxes['left'][i], detected_boxes['top'][i], detected_boxes['width'][i], detected_boxes['height'][i])\n",
        "            cv2.rectangle(output_img, (x, y), (x + width, y + height), (0, 255, 0), 2)\n",
        "    return output_img"
      ]
    },
    {
      "cell_type": "code",
      "execution_count": null,
      "metadata": {
        "id": "PxTe7MS2D2fs"
      },
      "outputs": [],
      "source": [
        "def extract_text(detected_boxes):\n",
        "    text_content = []\n",
        "    num_boxes = len(detected_boxes['level'])\n",
        "    for i in range(num_boxes):\n",
        "        if int(detected_boxes['conf'][i]) > 60:\n",
        "            text_content.append(detected_boxes['text'][i])\n",
        "    return ' '.join(text_content)"
      ]
    },
    {
      "cell_type": "code",
      "execution_count": null,
      "metadata": {
        "colab": {
          "base_uri": "https://localhost:8080/",
          "height": 796
        },
        "id": "khliqlrBD3qv",
        "outputId": "44a5b821-10cd-49d9-d5fe-7c87f70f36f7"
      },
      "outputs": [],
      "source": [
        "img_path = \"/content/drive/Test_Text.png\"\n",
        "\n",
        "image_loaded = cv2.imread(img_path)\n",
        "\n",
        "# Check if image was successfully loaded\n",
        "if image_loaded is None:\n",
        "    print(f\"Error: Unable to read the image file: {img_path}\")\n",
        "else:\n",
        "    # Display original image\n",
        "    print(\"\\nOriginal Image:\")\n",
        "    cv2_imshow(image_loaded)\n",
        "\n",
        "    # Preprocess image\n",
        "    preprocessed_image = process_image(image_loaded)\n",
        "\n",
        "    # Detect text regions\n",
        "    text_boxes = text_regions(preprocessed_image)\n",
        "\n",
        "    # Draw bounding boxes on the original image\n",
        "    image_with_boxes = mark_text_regions(image_loaded, text_boxes)\n",
        "\n",
        "    # Display the image with detected text regions\n",
        "    print(\"\\nImage with Text Detection Regions:\")\n",
        "    cv2_imshow(image_with_boxes)\n",
        "\n",
        "    # Extract and print detected text\n",
        "    extracted_text = extract_text(text_boxes)\n",
        "    print(\"\\nDetected Text:\")\n",
        "    print(extracted_text)"
      ]
    }
  ],
  "metadata": {
    "colab": {
      "provenance": []
    },
    "kernelspec": {
      "display_name": "Python 3",
      "name": "python3"
    },
    "language_info": {
      "name": "python"
    }
  },
  "nbformat": 4,
  "nbformat_minor": 0
}
